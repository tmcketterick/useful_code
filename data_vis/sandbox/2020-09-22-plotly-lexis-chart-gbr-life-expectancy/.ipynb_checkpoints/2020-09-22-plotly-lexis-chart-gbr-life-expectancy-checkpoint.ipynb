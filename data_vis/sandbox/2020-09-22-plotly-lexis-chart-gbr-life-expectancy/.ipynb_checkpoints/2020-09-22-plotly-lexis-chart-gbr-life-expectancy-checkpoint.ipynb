{
 "cells": [
  {
   "cell_type": "code",
   "execution_count": 2,
   "metadata": {},
   "outputs": [],
   "source": [
    "import plotly.graph_objects as go\n",
    "import pandas as pd"
   ]
  },
  {
   "cell_type": "markdown",
   "metadata": {},
   "source": [
    "# Load the data"
   ]
  },
  {
   "cell_type": "code",
   "execution_count": 3,
   "metadata": {},
   "outputs": [
    {
     "data": {
      "text/html": [
       "<div>\n",
       "<style scoped>\n",
       "    .dataframe tbody tr th:only-of-type {\n",
       "        vertical-align: middle;\n",
       "    }\n",
       "\n",
       "    .dataframe tbody tr th {\n",
       "        vertical-align: top;\n",
       "    }\n",
       "\n",
       "    .dataframe thead th {\n",
       "        text-align: right;\n",
       "    }\n",
       "</style>\n",
       "<table border=\"1\" class=\"dataframe\">\n",
       "  <thead>\n",
       "    <tr style=\"text-align: right;\">\n",
       "      <th></th>\n",
       "      <th>year</th>\n",
       "      <th>male</th>\n",
       "      <th>female</th>\n",
       "      <th>male_end</th>\n",
       "      <th>female_end</th>\n",
       "    </tr>\n",
       "  </thead>\n",
       "  <tbody>\n",
       "    <tr>\n",
       "      <th>0</th>\n",
       "      <td>1841</td>\n",
       "      <td>40.17</td>\n",
       "      <td>42.16</td>\n",
       "      <td>1881.17</td>\n",
       "      <td>1883.16</td>\n",
       "    </tr>\n",
       "    <tr>\n",
       "      <th>1</th>\n",
       "      <td>1851</td>\n",
       "      <td>39.91</td>\n",
       "      <td>41.85</td>\n",
       "      <td>1890.91</td>\n",
       "      <td>1892.85</td>\n",
       "    </tr>\n",
       "    <tr>\n",
       "      <th>2</th>\n",
       "      <td>1871</td>\n",
       "      <td>41.35</td>\n",
       "      <td>44.62</td>\n",
       "      <td>1912.35</td>\n",
       "      <td>1915.62</td>\n",
       "    </tr>\n",
       "    <tr>\n",
       "      <th>3</th>\n",
       "      <td>1881</td>\n",
       "      <td>43.66</td>\n",
       "      <td>47.18</td>\n",
       "      <td>1924.66</td>\n",
       "      <td>1928.18</td>\n",
       "    </tr>\n",
       "    <tr>\n",
       "      <th>4</th>\n",
       "      <td>1891</td>\n",
       "      <td>44.13</td>\n",
       "      <td>47.77</td>\n",
       "      <td>1935.13</td>\n",
       "      <td>1938.77</td>\n",
       "    </tr>\n",
       "  </tbody>\n",
       "</table>\n",
       "</div>"
      ],
      "text/plain": [
       "   year   male  female  male_end  female_end\n",
       "0  1841  40.17   42.16   1881.17     1883.16\n",
       "1  1851  39.91   41.85   1890.91     1892.85\n",
       "2  1871  41.35   44.62   1912.35     1915.62\n",
       "3  1881  43.66   47.18   1924.66     1928.18\n",
       "4  1891  44.13   47.77   1935.13     1938.77"
      ]
     },
     "execution_count": 3,
     "metadata": {},
     "output_type": "execute_result"
    }
   ],
   "source": [
    "df = pd.read_csv('life_expectancy_1841-20111.csv')\n",
    "\n",
    "df['male_end'] = df['year'] + df['male']\n",
    "df['female_end'] = df['year'] + df['female']\n",
    "\n",
    "df.head()"
   ]
  },
  {
   "cell_type": "code",
   "execution_count": 13,
   "metadata": {},
   "outputs": [
    {
     "data": {
      "text/html": [
       "<div>\n",
       "<style scoped>\n",
       "    .dataframe tbody tr th:only-of-type {\n",
       "        vertical-align: middle;\n",
       "    }\n",
       "\n",
       "    .dataframe tbody tr th {\n",
       "        vertical-align: top;\n",
       "    }\n",
       "\n",
       "    .dataframe thead th {\n",
       "        text-align: right;\n",
       "    }\n",
       "</style>\n",
       "<table border=\"1\" class=\"dataframe\">\n",
       "  <thead>\n",
       "    <tr style=\"text-align: right;\">\n",
       "      <th></th>\n",
       "      <th>name</th>\n",
       "      <th>sex</th>\n",
       "      <th>birth_date</th>\n",
       "      <th>death_date</th>\n",
       "      <th>age</th>\n",
       "      <th>age2</th>\n",
       "      <th>birth_year</th>\n",
       "      <th>death_year</th>\n",
       "    </tr>\n",
       "  </thead>\n",
       "  <tbody>\n",
       "    <tr>\n",
       "      <th>0</th>\n",
       "      <td>Charlotte Hughes</td>\n",
       "      <td>F</td>\n",
       "      <td>1877-08-01</td>\n",
       "      <td>1993-03-17</td>\n",
       "      <td>115 years, 228 days</td>\n",
       "      <td>115.622177</td>\n",
       "      <td>1877</td>\n",
       "      <td>1993</td>\n",
       "    </tr>\n",
       "    <tr>\n",
       "      <th>1</th>\n",
       "      <td>Annie Jennings</td>\n",
       "      <td>F</td>\n",
       "      <td>1884-12-12</td>\n",
       "      <td>1999-11-20</td>\n",
       "      <td>115 years, 8 days</td>\n",
       "      <td>114.934976</td>\n",
       "      <td>1884</td>\n",
       "      <td>1999</td>\n",
       "    </tr>\n",
       "    <tr>\n",
       "      <th>2</th>\n",
       "      <td>Eva Morris</td>\n",
       "      <td>F</td>\n",
       "      <td>1885-11-08</td>\n",
       "      <td>2000-11-02</td>\n",
       "      <td>114 years, 360 days</td>\n",
       "      <td>114.981520</td>\n",
       "      <td>1885</td>\n",
       "      <td>2000</td>\n",
       "    </tr>\n",
       "    <tr>\n",
       "      <th>3</th>\n",
       "      <td>Ethel Lang</td>\n",
       "      <td>F</td>\n",
       "      <td>1900-05-27</td>\n",
       "      <td>2015-01-15</td>\n",
       "      <td>114 years, 233 days</td>\n",
       "      <td>114.636550</td>\n",
       "      <td>1900</td>\n",
       "      <td>2015</td>\n",
       "    </tr>\n",
       "    <tr>\n",
       "      <th>4</th>\n",
       "      <td>Anna Eliza Williams</td>\n",
       "      <td>F</td>\n",
       "      <td>1873-06-02</td>\n",
       "      <td>1987-12-27</td>\n",
       "      <td>114 years, 208 days</td>\n",
       "      <td>114.565366</td>\n",
       "      <td>1873</td>\n",
       "      <td>1987</td>\n",
       "    </tr>\n",
       "    <tr>\n",
       "      <th>5</th>\n",
       "      <td>Grace Clawson</td>\n",
       "      <td>F</td>\n",
       "      <td>1887-11-15</td>\n",
       "      <td>2002-05-28</td>\n",
       "      <td>114 years, 194 days</td>\n",
       "      <td>114.529774</td>\n",
       "      <td>1887</td>\n",
       "      <td>2002</td>\n",
       "    </tr>\n",
       "    <tr>\n",
       "      <th>6</th>\n",
       "      <td>Lucy Jane Askew</td>\n",
       "      <td>F</td>\n",
       "      <td>1883-09-08</td>\n",
       "      <td>1997-12-09</td>\n",
       "      <td>114 years, 92 days</td>\n",
       "      <td>114.250513</td>\n",
       "      <td>1883</td>\n",
       "      <td>1997</td>\n",
       "    </tr>\n",
       "    <tr>\n",
       "      <th>7</th>\n",
       "      <td>Florrie Baldwin</td>\n",
       "      <td>F</td>\n",
       "      <td>1896-03-31</td>\n",
       "      <td>2010-05-08</td>\n",
       "      <td>114 years, 38 days</td>\n",
       "      <td>114.099932</td>\n",
       "      <td>1896</td>\n",
       "      <td>2010</td>\n",
       "    </tr>\n",
       "    <tr>\n",
       "      <th>8</th>\n",
       "      <td>Amy Hulmes</td>\n",
       "      <td>F</td>\n",
       "      <td>1887-10-05</td>\n",
       "      <td>2001-10-27</td>\n",
       "      <td>114 years, 22 days</td>\n",
       "      <td>114.058864</td>\n",
       "      <td>1887</td>\n",
       "      <td>2001</td>\n",
       "    </tr>\n",
       "    <tr>\n",
       "      <th>9</th>\n",
       "      <td>Miriam Carpelan</td>\n",
       "      <td>F</td>\n",
       "      <td>1882-07-08</td>\n",
       "      <td>1996-06-22</td>\n",
       "      <td>113 years, 350 days</td>\n",
       "      <td>113.954825</td>\n",
       "      <td>1882</td>\n",
       "      <td>1996</td>\n",
       "    </tr>\n",
       "  </tbody>\n",
       "</table>\n",
       "</div>"
      ],
      "text/plain": [
       "                  name sex birth_date death_date                  age  \\\n",
       "0     Charlotte Hughes   F 1877-08-01 1993-03-17  115 years, 228 days   \n",
       "1       Annie Jennings   F 1884-12-12 1999-11-20    115 years, 8 days   \n",
       "2           Eva Morris   F 1885-11-08 2000-11-02  114 years, 360 days   \n",
       "3           Ethel Lang   F 1900-05-27 2015-01-15  114 years, 233 days   \n",
       "4  Anna Eliza Williams   F 1873-06-02 1987-12-27  114 years, 208 days   \n",
       "5        Grace Clawson   F 1887-11-15 2002-05-28  114 years, 194 days   \n",
       "6      Lucy Jane Askew   F 1883-09-08 1997-12-09   114 years, 92 days   \n",
       "7      Florrie Baldwin   F 1896-03-31 2010-05-08   114 years, 38 days   \n",
       "8           Amy Hulmes   F 1887-10-05 2001-10-27   114 years, 22 days   \n",
       "9      Miriam Carpelan   F 1882-07-08 1996-06-22  113 years, 350 days   \n",
       "\n",
       "         age2  birth_year  death_year  \n",
       "0  115.622177        1877        1993  \n",
       "1  114.934976        1884        1999  \n",
       "2  114.981520        1885        2000  \n",
       "3  114.636550        1900        2015  \n",
       "4  114.565366        1873        1987  \n",
       "5  114.529774        1887        2002  \n",
       "6  114.250513        1883        1997  \n",
       "7  114.099932        1896        2010  \n",
       "8  114.058864        1887        2001  \n",
       "9  113.954825        1882        1996  "
      ]
     },
     "execution_count": 13,
     "metadata": {},
     "output_type": "execute_result"
    }
   ],
   "source": [
    "df2 = pd.read_csv('englands_oldest.csv', encoding='latin-1')\n",
    "df2['birth_date'] = pd.to_datetime(df2['birth_date'], format=\"%d/%m/%Y\")\n",
    "df2['death_date'] = pd.to_datetime(df2['death_date'], format=\"%d/%m/%Y\")\n",
    "df2['age2'] = ((df2['death_date'] - df2['birth_date']).dt.days)/365.25\n",
    "df2['birth_year'] = df2['birth_date'].dt.year\n",
    "df2['death_year'] = df2['death_date'].dt.year\n",
    "\n",
    "df2.head(10)"
   ]
  },
  {
   "cell_type": "markdown",
   "metadata": {},
   "source": [
    "# Plotly Lexis plot"
   ]
  },
  {
   "cell_type": "code",
   "execution_count": 19,
   "metadata": {},
   "outputs": [
    {
     "data": {
      "application/vnd.plotly.v1+json": {
       "config": {
        "plotlyServerURL": "https://plot.ly"
       },
       "data": [
        {
         "line": {
          "color": "#A9A9A9",
          "width": 1
         },
         "mode": "lines",
         "showlegend": false,
         "type": "scatter",
         "x": [
          1841,
          1883.16
         ],
         "y": [
          0,
          42.16
         ]
        },
        {
         "line": {
          "color": "#A9A9A9",
          "width": 1
         },
         "mode": "lines",
         "showlegend": false,
         "type": "scatter",
         "x": [
          1851,
          1892.85
         ],
         "y": [
          0,
          41.85
         ]
        },
        {
         "line": {
          "color": "#A9A9A9",
          "width": 1
         },
         "mode": "lines",
         "showlegend": false,
         "type": "scatter",
         "x": [
          1871,
          1915.62
         ],
         "y": [
          0,
          44.62
         ]
        },
        {
         "line": {
          "color": "#A9A9A9",
          "width": 1
         },
         "mode": "lines",
         "showlegend": false,
         "type": "scatter",
         "x": [
          1881,
          1928.18
         ],
         "y": [
          0,
          47.18
         ]
        },
        {
         "line": {
          "color": "#A9A9A9",
          "width": 1
         },
         "mode": "lines",
         "showlegend": false,
         "type": "scatter",
         "x": [
          1891,
          1938.77
         ],
         "y": [
          0,
          47.77
         ]
        },
        {
         "line": {
          "color": "#A9A9A9",
          "width": 1
         },
         "mode": "lines",
         "showlegend": false,
         "type": "scatter",
         "x": [
          1901,
          1953.38
         ],
         "y": [
          0,
          52.38
         ]
        },
        {
         "line": {
          "color": "#A9A9A9",
          "width": 1
         },
         "mode": "lines",
         "showlegend": false,
         "type": "scatter",
         "x": [
          1911,
          1966.35
         ],
         "y": [
          0,
          55.35
         ]
        },
        {
         "line": {
          "color": "#A9A9A9",
          "width": 1
         },
         "mode": "lines",
         "showlegend": false,
         "type": "scatter",
         "x": [
          1921,
          1980.58
         ],
         "y": [
          0,
          59.58
         ]
        },
        {
         "line": {
          "color": "#A9A9A9",
          "width": 1
         },
         "mode": "lines",
         "showlegend": false,
         "type": "scatter",
         "x": [
          1931,
          1993.88
         ],
         "y": [
          0,
          62.88
         ]
        },
        {
         "line": {
          "color": "#A9A9A9",
          "width": 1
         },
         "mode": "lines",
         "showlegend": false,
         "type": "scatter",
         "x": [
          1951,
          2022.54
         ],
         "y": [
          0,
          71.54
         ]
        },
        {
         "line": {
          "color": "#A9A9A9",
          "width": 1
         },
         "mode": "lines",
         "showlegend": false,
         "type": "scatter",
         "x": [
          1961,
          2035
         ],
         "y": [
          0,
          74
         ]
        },
        {
         "line": {
          "color": "#A9A9A9",
          "width": 1
         },
         "mode": "lines",
         "showlegend": false,
         "type": "scatter",
         "x": [
          1971,
          2046.25
         ],
         "y": [
          0,
          75.25
         ]
        },
        {
         "line": {
          "color": "#A9A9A9",
          "width": 1
         },
         "mode": "lines",
         "showlegend": false,
         "type": "scatter",
         "x": [
          1981,
          2058
         ],
         "y": [
          0,
          77
         ]
        },
        {
         "line": {
          "color": "#A9A9A9",
          "width": 1
         },
         "mode": "lines",
         "showlegend": false,
         "type": "scatter",
         "x": [
          1991,
          2069.96
         ],
         "y": [
          0,
          78.96
         ]
        },
        {
         "line": {
          "color": "#A9A9A9",
          "width": 1
         },
         "mode": "lines",
         "showlegend": false,
         "type": "scatter",
         "x": [
          2001,
          2081.59
         ],
         "y": [
          0,
          80.59
         ]
        },
        {
         "line": {
          "color": "#A9A9A9",
          "width": 1
         },
         "mode": "lines",
         "showlegend": false,
         "type": "scatter",
         "x": [
          2011,
          2093.8
         ],
         "y": [
          0,
          82.8
         ]
        },
        {
         "line": {
          "color": "#A9A9A9",
          "dash": "dash",
          "width": 1
         },
         "mode": "lines",
         "showlegend": false,
         "type": "scatter",
         "x": [
          1877,
          1993
         ],
         "y": [
          0,
          115.62217659137578
         ]
        },
        {
         "line": {
          "color": "#A9A9A9",
          "dash": "dash",
          "width": 1
         },
         "mode": "lines",
         "showlegend": false,
         "type": "scatter",
         "x": [
          1884,
          1999
         ],
         "y": [
          0,
          114.93497604380562
         ]
        },
        {
         "line": {
          "color": "#A9A9A9",
          "dash": "dash",
          "width": 1
         },
         "mode": "lines",
         "showlegend": false,
         "type": "scatter",
         "x": [
          1885,
          2000
         ],
         "y": [
          0,
          114.98151950718686
         ]
        },
        {
         "line": {
          "color": "#A9A9A9",
          "dash": "dash",
          "width": 1
         },
         "mode": "lines",
         "showlegend": false,
         "type": "scatter",
         "x": [
          1900,
          2015
         ],
         "y": [
          0,
          114.63655030800821
         ]
        },
        {
         "line": {
          "color": "#A9A9A9",
          "dash": "dash",
          "width": 1
         },
         "mode": "lines",
         "showlegend": false,
         "type": "scatter",
         "x": [
          1873,
          1987
         ],
         "y": [
          0,
          114.56536618754278
         ]
        },
        {
         "line": {
          "color": "#A9A9A9",
          "dash": "dash",
          "width": 1
         },
         "mode": "lines",
         "showlegend": false,
         "type": "scatter",
         "x": [
          1887,
          2002
         ],
         "y": [
          0,
          114.52977412731006
         ]
        },
        {
         "line": {
          "color": "#A9A9A9",
          "dash": "dash",
          "width": 1
         },
         "mode": "lines",
         "showlegend": false,
         "type": "scatter",
         "x": [
          1883,
          1997
         ],
         "y": [
          0,
          114.25051334702259
         ]
        },
        {
         "line": {
          "color": "#A9A9A9",
          "dash": "dash",
          "width": 1
         },
         "mode": "lines",
         "showlegend": false,
         "type": "scatter",
         "x": [
          1896,
          2010
         ],
         "y": [
          0,
          114.09993155373031
         ]
        },
        {
         "line": {
          "color": "#A9A9A9",
          "dash": "dash",
          "width": 1
         },
         "mode": "lines",
         "showlegend": false,
         "type": "scatter",
         "x": [
          1887,
          2001
         ],
         "y": [
          0,
          114.05886379192334
         ]
        },
        {
         "line": {
          "color": "#A9A9A9",
          "dash": "dash",
          "width": 1
         },
         "mode": "lines",
         "showlegend": false,
         "type": "scatter",
         "x": [
          1882,
          1996
         ],
         "y": [
          0,
          113.95482546201232
         ]
        },
        {
         "marker": {
          "color": "#4ac6ba",
          "line": {
           "width": 1
          },
          "size": 8
         },
         "mode": "markers",
         "name": "Male",
         "type": "scatter",
         "x": [
          1881.17,
          1890.91,
          1912.35,
          1924.66,
          1935.13,
          1949.53,
          1962.5,
          1976.62,
          1989.74,
          2017.42,
          2029.09,
          2040,
          2052.04,
          2064.41,
          2076.96,
          2089.97
         ],
         "y": [
          40.17,
          39.91,
          41.35,
          43.66,
          44.13,
          48.53,
          51.5,
          55.62,
          58.74,
          66.42,
          68.09,
          69,
          71.04,
          73.41,
          75.96,
          78.97
         ]
        },
        {
         "marker": {
          "color": "#ee82ee",
          "line": {
           "width": 1
          },
          "size": 8
         },
         "mode": "markers",
         "name": "Female",
         "type": "scatter",
         "x": [
          1883.16,
          1892.85,
          1915.62,
          1928.18,
          1938.77,
          1953.38,
          1966.35,
          1980.58,
          1993.88,
          2022.54,
          2035,
          2046.25,
          2058,
          2069.96,
          2081.59,
          2093.8
         ],
         "y": [
          42.16,
          41.85,
          44.62,
          47.18,
          47.77,
          52.38,
          55.35,
          59.58,
          62.88,
          71.54,
          74,
          75.25,
          77,
          78.96,
          80.59,
          82.8
         ]
        },
        {
         "marker": {
          "color": "#FFD700",
          "line": {
           "width": 1
          },
          "size": 8,
          "symbol": "hexagram"
         },
         "mode": "markers",
         "name": "Top 10 oldest",
         "type": "scatter",
         "x": [
          1993,
          1999,
          2000,
          2015,
          1987,
          2002,
          1997,
          2010,
          2001,
          1996
         ],
         "y": [
          115.62217659137578,
          114.93497604380562,
          114.98151950718686,
          114.63655030800821,
          114.56536618754278,
          114.52977412731006,
          114.25051334702259,
          114.09993155373031,
          114.05886379192334,
          113.95482546201232
         ]
        }
       ],
       "layout": {
        "plot_bgcolor": "#FFFFFF",
        "template": {
         "data": {
          "bar": [
           {
            "error_x": {
             "color": "#2a3f5f"
            },
            "error_y": {
             "color": "#2a3f5f"
            },
            "marker": {
             "line": {
              "color": "#E5ECF6",
              "width": 0.5
             }
            },
            "type": "bar"
           }
          ],
          "barpolar": [
           {
            "marker": {
             "line": {
              "color": "#E5ECF6",
              "width": 0.5
             }
            },
            "type": "barpolar"
           }
          ],
          "carpet": [
           {
            "aaxis": {
             "endlinecolor": "#2a3f5f",
             "gridcolor": "white",
             "linecolor": "white",
             "minorgridcolor": "white",
             "startlinecolor": "#2a3f5f"
            },
            "baxis": {
             "endlinecolor": "#2a3f5f",
             "gridcolor": "white",
             "linecolor": "white",
             "minorgridcolor": "white",
             "startlinecolor": "#2a3f5f"
            },
            "type": "carpet"
           }
          ],
          "choropleth": [
           {
            "colorbar": {
             "outlinewidth": 0,
             "ticks": ""
            },
            "type": "choropleth"
           }
          ],
          "contour": [
           {
            "colorbar": {
             "outlinewidth": 0,
             "ticks": ""
            },
            "colorscale": [
             [
              0,
              "#0d0887"
             ],
             [
              0.1111111111111111,
              "#46039f"
             ],
             [
              0.2222222222222222,
              "#7201a8"
             ],
             [
              0.3333333333333333,
              "#9c179e"
             ],
             [
              0.4444444444444444,
              "#bd3786"
             ],
             [
              0.5555555555555556,
              "#d8576b"
             ],
             [
              0.6666666666666666,
              "#ed7953"
             ],
             [
              0.7777777777777778,
              "#fb9f3a"
             ],
             [
              0.8888888888888888,
              "#fdca26"
             ],
             [
              1,
              "#f0f921"
             ]
            ],
            "type": "contour"
           }
          ],
          "contourcarpet": [
           {
            "colorbar": {
             "outlinewidth": 0,
             "ticks": ""
            },
            "type": "contourcarpet"
           }
          ],
          "heatmap": [
           {
            "colorbar": {
             "outlinewidth": 0,
             "ticks": ""
            },
            "colorscale": [
             [
              0,
              "#0d0887"
             ],
             [
              0.1111111111111111,
              "#46039f"
             ],
             [
              0.2222222222222222,
              "#7201a8"
             ],
             [
              0.3333333333333333,
              "#9c179e"
             ],
             [
              0.4444444444444444,
              "#bd3786"
             ],
             [
              0.5555555555555556,
              "#d8576b"
             ],
             [
              0.6666666666666666,
              "#ed7953"
             ],
             [
              0.7777777777777778,
              "#fb9f3a"
             ],
             [
              0.8888888888888888,
              "#fdca26"
             ],
             [
              1,
              "#f0f921"
             ]
            ],
            "type": "heatmap"
           }
          ],
          "heatmapgl": [
           {
            "colorbar": {
             "outlinewidth": 0,
             "ticks": ""
            },
            "colorscale": [
             [
              0,
              "#0d0887"
             ],
             [
              0.1111111111111111,
              "#46039f"
             ],
             [
              0.2222222222222222,
              "#7201a8"
             ],
             [
              0.3333333333333333,
              "#9c179e"
             ],
             [
              0.4444444444444444,
              "#bd3786"
             ],
             [
              0.5555555555555556,
              "#d8576b"
             ],
             [
              0.6666666666666666,
              "#ed7953"
             ],
             [
              0.7777777777777778,
              "#fb9f3a"
             ],
             [
              0.8888888888888888,
              "#fdca26"
             ],
             [
              1,
              "#f0f921"
             ]
            ],
            "type": "heatmapgl"
           }
          ],
          "histogram": [
           {
            "marker": {
             "colorbar": {
              "outlinewidth": 0,
              "ticks": ""
             }
            },
            "type": "histogram"
           }
          ],
          "histogram2d": [
           {
            "colorbar": {
             "outlinewidth": 0,
             "ticks": ""
            },
            "colorscale": [
             [
              0,
              "#0d0887"
             ],
             [
              0.1111111111111111,
              "#46039f"
             ],
             [
              0.2222222222222222,
              "#7201a8"
             ],
             [
              0.3333333333333333,
              "#9c179e"
             ],
             [
              0.4444444444444444,
              "#bd3786"
             ],
             [
              0.5555555555555556,
              "#d8576b"
             ],
             [
              0.6666666666666666,
              "#ed7953"
             ],
             [
              0.7777777777777778,
              "#fb9f3a"
             ],
             [
              0.8888888888888888,
              "#fdca26"
             ],
             [
              1,
              "#f0f921"
             ]
            ],
            "type": "histogram2d"
           }
          ],
          "histogram2dcontour": [
           {
            "colorbar": {
             "outlinewidth": 0,
             "ticks": ""
            },
            "colorscale": [
             [
              0,
              "#0d0887"
             ],
             [
              0.1111111111111111,
              "#46039f"
             ],
             [
              0.2222222222222222,
              "#7201a8"
             ],
             [
              0.3333333333333333,
              "#9c179e"
             ],
             [
              0.4444444444444444,
              "#bd3786"
             ],
             [
              0.5555555555555556,
              "#d8576b"
             ],
             [
              0.6666666666666666,
              "#ed7953"
             ],
             [
              0.7777777777777778,
              "#fb9f3a"
             ],
             [
              0.8888888888888888,
              "#fdca26"
             ],
             [
              1,
              "#f0f921"
             ]
            ],
            "type": "histogram2dcontour"
           }
          ],
          "mesh3d": [
           {
            "colorbar": {
             "outlinewidth": 0,
             "ticks": ""
            },
            "type": "mesh3d"
           }
          ],
          "parcoords": [
           {
            "line": {
             "colorbar": {
              "outlinewidth": 0,
              "ticks": ""
             }
            },
            "type": "parcoords"
           }
          ],
          "pie": [
           {
            "automargin": true,
            "type": "pie"
           }
          ],
          "scatter": [
           {
            "marker": {
             "colorbar": {
              "outlinewidth": 0,
              "ticks": ""
             }
            },
            "type": "scatter"
           }
          ],
          "scatter3d": [
           {
            "line": {
             "colorbar": {
              "outlinewidth": 0,
              "ticks": ""
             }
            },
            "marker": {
             "colorbar": {
              "outlinewidth": 0,
              "ticks": ""
             }
            },
            "type": "scatter3d"
           }
          ],
          "scattercarpet": [
           {
            "marker": {
             "colorbar": {
              "outlinewidth": 0,
              "ticks": ""
             }
            },
            "type": "scattercarpet"
           }
          ],
          "scattergeo": [
           {
            "marker": {
             "colorbar": {
              "outlinewidth": 0,
              "ticks": ""
             }
            },
            "type": "scattergeo"
           }
          ],
          "scattergl": [
           {
            "marker": {
             "colorbar": {
              "outlinewidth": 0,
              "ticks": ""
             }
            },
            "type": "scattergl"
           }
          ],
          "scattermapbox": [
           {
            "marker": {
             "colorbar": {
              "outlinewidth": 0,
              "ticks": ""
             }
            },
            "type": "scattermapbox"
           }
          ],
          "scatterpolar": [
           {
            "marker": {
             "colorbar": {
              "outlinewidth": 0,
              "ticks": ""
             }
            },
            "type": "scatterpolar"
           }
          ],
          "scatterpolargl": [
           {
            "marker": {
             "colorbar": {
              "outlinewidth": 0,
              "ticks": ""
             }
            },
            "type": "scatterpolargl"
           }
          ],
          "scatterternary": [
           {
            "marker": {
             "colorbar": {
              "outlinewidth": 0,
              "ticks": ""
             }
            },
            "type": "scatterternary"
           }
          ],
          "surface": [
           {
            "colorbar": {
             "outlinewidth": 0,
             "ticks": ""
            },
            "colorscale": [
             [
              0,
              "#0d0887"
             ],
             [
              0.1111111111111111,
              "#46039f"
             ],
             [
              0.2222222222222222,
              "#7201a8"
             ],
             [
              0.3333333333333333,
              "#9c179e"
             ],
             [
              0.4444444444444444,
              "#bd3786"
             ],
             [
              0.5555555555555556,
              "#d8576b"
             ],
             [
              0.6666666666666666,
              "#ed7953"
             ],
             [
              0.7777777777777778,
              "#fb9f3a"
             ],
             [
              0.8888888888888888,
              "#fdca26"
             ],
             [
              1,
              "#f0f921"
             ]
            ],
            "type": "surface"
           }
          ],
          "table": [
           {
            "cells": {
             "fill": {
              "color": "#EBF0F8"
             },
             "line": {
              "color": "white"
             }
            },
            "header": {
             "fill": {
              "color": "#C8D4E3"
             },
             "line": {
              "color": "white"
             }
            },
            "type": "table"
           }
          ]
         },
         "layout": {
          "annotationdefaults": {
           "arrowcolor": "#2a3f5f",
           "arrowhead": 0,
           "arrowwidth": 1
          },
          "coloraxis": {
           "colorbar": {
            "outlinewidth": 0,
            "ticks": ""
           }
          },
          "colorscale": {
           "diverging": [
            [
             0,
             "#8e0152"
            ],
            [
             0.1,
             "#c51b7d"
            ],
            [
             0.2,
             "#de77ae"
            ],
            [
             0.3,
             "#f1b6da"
            ],
            [
             0.4,
             "#fde0ef"
            ],
            [
             0.5,
             "#f7f7f7"
            ],
            [
             0.6,
             "#e6f5d0"
            ],
            [
             0.7,
             "#b8e186"
            ],
            [
             0.8,
             "#7fbc41"
            ],
            [
             0.9,
             "#4d9221"
            ],
            [
             1,
             "#276419"
            ]
           ],
           "sequential": [
            [
             0,
             "#0d0887"
            ],
            [
             0.1111111111111111,
             "#46039f"
            ],
            [
             0.2222222222222222,
             "#7201a8"
            ],
            [
             0.3333333333333333,
             "#9c179e"
            ],
            [
             0.4444444444444444,
             "#bd3786"
            ],
            [
             0.5555555555555556,
             "#d8576b"
            ],
            [
             0.6666666666666666,
             "#ed7953"
            ],
            [
             0.7777777777777778,
             "#fb9f3a"
            ],
            [
             0.8888888888888888,
             "#fdca26"
            ],
            [
             1,
             "#f0f921"
            ]
           ],
           "sequentialminus": [
            [
             0,
             "#0d0887"
            ],
            [
             0.1111111111111111,
             "#46039f"
            ],
            [
             0.2222222222222222,
             "#7201a8"
            ],
            [
             0.3333333333333333,
             "#9c179e"
            ],
            [
             0.4444444444444444,
             "#bd3786"
            ],
            [
             0.5555555555555556,
             "#d8576b"
            ],
            [
             0.6666666666666666,
             "#ed7953"
            ],
            [
             0.7777777777777778,
             "#fb9f3a"
            ],
            [
             0.8888888888888888,
             "#fdca26"
            ],
            [
             1,
             "#f0f921"
            ]
           ]
          },
          "colorway": [
           "#636efa",
           "#EF553B",
           "#00cc96",
           "#ab63fa",
           "#FFA15A",
           "#19d3f3",
           "#FF6692",
           "#B6E880",
           "#FF97FF",
           "#FECB52"
          ],
          "font": {
           "color": "#2a3f5f"
          },
          "geo": {
           "bgcolor": "white",
           "lakecolor": "white",
           "landcolor": "#E5ECF6",
           "showlakes": true,
           "showland": true,
           "subunitcolor": "white"
          },
          "hoverlabel": {
           "align": "left"
          },
          "hovermode": "closest",
          "mapbox": {
           "style": "light"
          },
          "paper_bgcolor": "white",
          "plot_bgcolor": "#E5ECF6",
          "polar": {
           "angularaxis": {
            "gridcolor": "white",
            "linecolor": "white",
            "ticks": ""
           },
           "bgcolor": "#E5ECF6",
           "radialaxis": {
            "gridcolor": "white",
            "linecolor": "white",
            "ticks": ""
           }
          },
          "scene": {
           "xaxis": {
            "backgroundcolor": "#E5ECF6",
            "gridcolor": "white",
            "gridwidth": 2,
            "linecolor": "white",
            "showbackground": true,
            "ticks": "",
            "zerolinecolor": "white"
           },
           "yaxis": {
            "backgroundcolor": "#E5ECF6",
            "gridcolor": "white",
            "gridwidth": 2,
            "linecolor": "white",
            "showbackground": true,
            "ticks": "",
            "zerolinecolor": "white"
           },
           "zaxis": {
            "backgroundcolor": "#E5ECF6",
            "gridcolor": "white",
            "gridwidth": 2,
            "linecolor": "white",
            "showbackground": true,
            "ticks": "",
            "zerolinecolor": "white"
           }
          },
          "shapedefaults": {
           "line": {
            "color": "#2a3f5f"
           }
          },
          "ternary": {
           "aaxis": {
            "gridcolor": "white",
            "linecolor": "white",
            "ticks": ""
           },
           "baxis": {
            "gridcolor": "white",
            "linecolor": "white",
            "ticks": ""
           },
           "bgcolor": "#E5ECF6",
           "caxis": {
            "gridcolor": "white",
            "linecolor": "white",
            "ticks": ""
           }
          },
          "title": {
           "x": 0.05
          },
          "xaxis": {
           "automargin": true,
           "gridcolor": "white",
           "linecolor": "white",
           "ticks": "",
           "title": {
            "standoff": 15
           },
           "zerolinecolor": "white",
           "zerolinewidth": 2
          },
          "yaxis": {
           "automargin": true,
           "gridcolor": "white",
           "linecolor": "white",
           "ticks": "",
           "title": {
            "standoff": 15
           },
           "zerolinecolor": "white",
           "zerolinewidth": 2
          }
         }
        },
        "title": {
         "text": "How has life expectancy changed over time?",
         "x": 0.5
        },
        "xaxis": {
         "dtick": 10,
         "gridcolor": "#edf1f7",
         "linecolor": "black",
         "mirror": true,
         "range": [
          1841,
          2100
         ],
         "showgrid": true,
         "showline": true,
         "tickangle": 45,
         "ticks": "outside",
         "title": {
          "text": "Year"
         }
        },
        "yaxis": {
         "dtick": 10,
         "gridcolor": "#edf1f7",
         "linecolor": "black",
         "mirror": true,
         "range": [
          0,
          120
         ],
         "showgrid": true,
         "showline": true,
         "ticks": "outside",
         "title": {
          "text": "Age (years)"
         }
        }
       }
      },
      "text/html": [
       "<div>                            <div id=\"444a777b-254a-49b3-8c6e-525dc9ec0cf5\" class=\"plotly-graph-div\" style=\"height:525px; width:100%;\"></div>            <script type=\"text/javascript\">                require([\"plotly\"], function(Plotly) {                    window.PLOTLYENV=window.PLOTLYENV || {};                                    if (document.getElementById(\"444a777b-254a-49b3-8c6e-525dc9ec0cf5\")) {                    Plotly.newPlot(                        \"444a777b-254a-49b3-8c6e-525dc9ec0cf5\",                        [{\"line\": {\"color\": \"#A9A9A9\", \"width\": 1}, \"mode\": \"lines\", \"showlegend\": false, \"type\": \"scatter\", \"x\": [1841.0, 1883.16], \"y\": [0.0, 42.16]}, {\"line\": {\"color\": \"#A9A9A9\", \"width\": 1}, \"mode\": \"lines\", \"showlegend\": false, \"type\": \"scatter\", \"x\": [1851.0, 1892.85], \"y\": [0.0, 41.85]}, {\"line\": {\"color\": \"#A9A9A9\", \"width\": 1}, \"mode\": \"lines\", \"showlegend\": false, \"type\": \"scatter\", \"x\": [1871.0, 1915.62], \"y\": [0.0, 44.62]}, {\"line\": {\"color\": \"#A9A9A9\", \"width\": 1}, \"mode\": \"lines\", \"showlegend\": false, \"type\": \"scatter\", \"x\": [1881.0, 1928.18], \"y\": [0.0, 47.18]}, {\"line\": {\"color\": \"#A9A9A9\", \"width\": 1}, \"mode\": \"lines\", \"showlegend\": false, \"type\": \"scatter\", \"x\": [1891.0, 1938.77], \"y\": [0.0, 47.77]}, {\"line\": {\"color\": \"#A9A9A9\", \"width\": 1}, \"mode\": \"lines\", \"showlegend\": false, \"type\": \"scatter\", \"x\": [1901.0, 1953.38], \"y\": [0.0, 52.38]}, {\"line\": {\"color\": \"#A9A9A9\", \"width\": 1}, \"mode\": \"lines\", \"showlegend\": false, \"type\": \"scatter\", \"x\": [1911.0, 1966.35], \"y\": [0.0, 55.35]}, {\"line\": {\"color\": \"#A9A9A9\", \"width\": 1}, \"mode\": \"lines\", \"showlegend\": false, \"type\": \"scatter\", \"x\": [1921.0, 1980.58], \"y\": [0.0, 59.58]}, {\"line\": {\"color\": \"#A9A9A9\", \"width\": 1}, \"mode\": \"lines\", \"showlegend\": false, \"type\": \"scatter\", \"x\": [1931.0, 1993.88], \"y\": [0.0, 62.88]}, {\"line\": {\"color\": \"#A9A9A9\", \"width\": 1}, \"mode\": \"lines\", \"showlegend\": false, \"type\": \"scatter\", \"x\": [1951.0, 2022.54], \"y\": [0.0, 71.54]}, {\"line\": {\"color\": \"#A9A9A9\", \"width\": 1}, \"mode\": \"lines\", \"showlegend\": false, \"type\": \"scatter\", \"x\": [1961.0, 2035.0], \"y\": [0.0, 74.0]}, {\"line\": {\"color\": \"#A9A9A9\", \"width\": 1}, \"mode\": \"lines\", \"showlegend\": false, \"type\": \"scatter\", \"x\": [1971.0, 2046.25], \"y\": [0.0, 75.25]}, {\"line\": {\"color\": \"#A9A9A9\", \"width\": 1}, \"mode\": \"lines\", \"showlegend\": false, \"type\": \"scatter\", \"x\": [1981.0, 2058.0], \"y\": [0.0, 77.0]}, {\"line\": {\"color\": \"#A9A9A9\", \"width\": 1}, \"mode\": \"lines\", \"showlegend\": false, \"type\": \"scatter\", \"x\": [1991.0, 2069.96], \"y\": [0.0, 78.96]}, {\"line\": {\"color\": \"#A9A9A9\", \"width\": 1}, \"mode\": \"lines\", \"showlegend\": false, \"type\": \"scatter\", \"x\": [2001.0, 2081.59], \"y\": [0.0, 80.59]}, {\"line\": {\"color\": \"#A9A9A9\", \"width\": 1}, \"mode\": \"lines\", \"showlegend\": false, \"type\": \"scatter\", \"x\": [2011.0, 2093.8], \"y\": [0.0, 82.8]}, {\"line\": {\"color\": \"#A9A9A9\", \"dash\": \"dash\", \"width\": 1}, \"mode\": \"lines\", \"showlegend\": false, \"type\": \"scatter\", \"x\": [1877, 1993], \"y\": [0.0, 115.62217659137578]}, {\"line\": {\"color\": \"#A9A9A9\", \"dash\": \"dash\", \"width\": 1}, \"mode\": \"lines\", \"showlegend\": false, \"type\": \"scatter\", \"x\": [1884, 1999], \"y\": [0.0, 114.93497604380562]}, {\"line\": {\"color\": \"#A9A9A9\", \"dash\": \"dash\", \"width\": 1}, \"mode\": \"lines\", \"showlegend\": false, \"type\": \"scatter\", \"x\": [1885, 2000], \"y\": [0.0, 114.98151950718686]}, {\"line\": {\"color\": \"#A9A9A9\", \"dash\": \"dash\", \"width\": 1}, \"mode\": \"lines\", \"showlegend\": false, \"type\": \"scatter\", \"x\": [1900, 2015], \"y\": [0.0, 114.63655030800821]}, {\"line\": {\"color\": \"#A9A9A9\", \"dash\": \"dash\", \"width\": 1}, \"mode\": \"lines\", \"showlegend\": false, \"type\": \"scatter\", \"x\": [1873, 1987], \"y\": [0.0, 114.56536618754278]}, {\"line\": {\"color\": \"#A9A9A9\", \"dash\": \"dash\", \"width\": 1}, \"mode\": \"lines\", \"showlegend\": false, \"type\": \"scatter\", \"x\": [1887, 2002], \"y\": [0.0, 114.52977412731006]}, {\"line\": {\"color\": \"#A9A9A9\", \"dash\": \"dash\", \"width\": 1}, \"mode\": \"lines\", \"showlegend\": false, \"type\": \"scatter\", \"x\": [1883, 1997], \"y\": [0.0, 114.25051334702259]}, {\"line\": {\"color\": \"#A9A9A9\", \"dash\": \"dash\", \"width\": 1}, \"mode\": \"lines\", \"showlegend\": false, \"type\": \"scatter\", \"x\": [1896, 2010], \"y\": [0.0, 114.09993155373031]}, {\"line\": {\"color\": \"#A9A9A9\", \"dash\": \"dash\", \"width\": 1}, \"mode\": \"lines\", \"showlegend\": false, \"type\": \"scatter\", \"x\": [1887, 2001], \"y\": [0.0, 114.05886379192334]}, {\"line\": {\"color\": \"#A9A9A9\", \"dash\": \"dash\", \"width\": 1}, \"mode\": \"lines\", \"showlegend\": false, \"type\": \"scatter\", \"x\": [1882, 1996], \"y\": [0.0, 113.95482546201232]}, {\"marker\": {\"color\": \"#4ac6ba\", \"line\": {\"width\": 1}, \"size\": 8}, \"mode\": \"markers\", \"name\": \"Male\", \"type\": \"scatter\", \"x\": [1881.17, 1890.91, 1912.35, 1924.66, 1935.13, 1949.53, 1962.5, 1976.62, 1989.74, 2017.42, 2029.09, 2040.0, 2052.04, 2064.41, 2076.96, 2089.97], \"y\": [40.17, 39.91, 41.35, 43.66, 44.13, 48.53, 51.5, 55.62, 58.74, 66.42, 68.09, 69.0, 71.04, 73.41, 75.96, 78.97]}, {\"marker\": {\"color\": \"#ee82ee\", \"line\": {\"width\": 1}, \"size\": 8}, \"mode\": \"markers\", \"name\": \"Female\", \"type\": \"scatter\", \"x\": [1883.16, 1892.85, 1915.62, 1928.18, 1938.77, 1953.38, 1966.35, 1980.58, 1993.88, 2022.54, 2035.0, 2046.25, 2058.0, 2069.96, 2081.59, 2093.8], \"y\": [42.16, 41.85, 44.62, 47.18, 47.77, 52.38, 55.35, 59.58, 62.88, 71.54, 74.0, 75.25, 77.0, 78.96, 80.59, 82.8]}, {\"marker\": {\"color\": \"#FFD700\", \"line\": {\"width\": 1}, \"size\": 8, \"symbol\": \"hexagram\"}, \"mode\": \"markers\", \"name\": \"Top 10 oldest\", \"type\": \"scatter\", \"x\": [1993, 1999, 2000, 2015, 1987, 2002, 1997, 2010, 2001, 1996], \"y\": [115.62217659137578, 114.93497604380562, 114.98151950718686, 114.63655030800821, 114.56536618754278, 114.52977412731006, 114.25051334702259, 114.09993155373031, 114.05886379192334, 113.95482546201232]}],                        {\"plot_bgcolor\": \"#FFFFFF\", \"template\": {\"data\": {\"bar\": [{\"error_x\": {\"color\": \"#2a3f5f\"}, \"error_y\": {\"color\": \"#2a3f5f\"}, \"marker\": {\"line\": {\"color\": \"#E5ECF6\", \"width\": 0.5}}, \"type\": \"bar\"}], \"barpolar\": [{\"marker\": {\"line\": {\"color\": \"#E5ECF6\", \"width\": 0.5}}, \"type\": \"barpolar\"}], \"carpet\": [{\"aaxis\": {\"endlinecolor\": \"#2a3f5f\", \"gridcolor\": \"white\", \"linecolor\": \"white\", \"minorgridcolor\": \"white\", \"startlinecolor\": \"#2a3f5f\"}, \"baxis\": {\"endlinecolor\": \"#2a3f5f\", \"gridcolor\": \"white\", \"linecolor\": \"white\", \"minorgridcolor\": \"white\", \"startlinecolor\": \"#2a3f5f\"}, \"type\": \"carpet\"}], \"choropleth\": [{\"colorbar\": {\"outlinewidth\": 0, \"ticks\": \"\"}, \"type\": \"choropleth\"}], \"contour\": [{\"colorbar\": {\"outlinewidth\": 0, \"ticks\": \"\"}, \"colorscale\": [[0.0, \"#0d0887\"], [0.1111111111111111, \"#46039f\"], [0.2222222222222222, \"#7201a8\"], [0.3333333333333333, \"#9c179e\"], [0.4444444444444444, \"#bd3786\"], [0.5555555555555556, \"#d8576b\"], [0.6666666666666666, \"#ed7953\"], [0.7777777777777778, \"#fb9f3a\"], [0.8888888888888888, \"#fdca26\"], [1.0, \"#f0f921\"]], \"type\": \"contour\"}], \"contourcarpet\": [{\"colorbar\": {\"outlinewidth\": 0, \"ticks\": \"\"}, \"type\": \"contourcarpet\"}], \"heatmap\": [{\"colorbar\": {\"outlinewidth\": 0, \"ticks\": \"\"}, \"colorscale\": [[0.0, \"#0d0887\"], [0.1111111111111111, \"#46039f\"], [0.2222222222222222, \"#7201a8\"], [0.3333333333333333, \"#9c179e\"], [0.4444444444444444, \"#bd3786\"], [0.5555555555555556, \"#d8576b\"], [0.6666666666666666, \"#ed7953\"], [0.7777777777777778, \"#fb9f3a\"], [0.8888888888888888, \"#fdca26\"], [1.0, \"#f0f921\"]], \"type\": \"heatmap\"}], \"heatmapgl\": [{\"colorbar\": {\"outlinewidth\": 0, \"ticks\": \"\"}, \"colorscale\": [[0.0, \"#0d0887\"], [0.1111111111111111, \"#46039f\"], [0.2222222222222222, \"#7201a8\"], [0.3333333333333333, \"#9c179e\"], [0.4444444444444444, \"#bd3786\"], [0.5555555555555556, \"#d8576b\"], [0.6666666666666666, \"#ed7953\"], [0.7777777777777778, \"#fb9f3a\"], [0.8888888888888888, \"#fdca26\"], [1.0, \"#f0f921\"]], \"type\": \"heatmapgl\"}], \"histogram\": [{\"marker\": {\"colorbar\": {\"outlinewidth\": 0, \"ticks\": \"\"}}, \"type\": \"histogram\"}], \"histogram2d\": [{\"colorbar\": {\"outlinewidth\": 0, \"ticks\": \"\"}, \"colorscale\": [[0.0, \"#0d0887\"], [0.1111111111111111, \"#46039f\"], [0.2222222222222222, \"#7201a8\"], [0.3333333333333333, \"#9c179e\"], [0.4444444444444444, \"#bd3786\"], [0.5555555555555556, \"#d8576b\"], [0.6666666666666666, \"#ed7953\"], [0.7777777777777778, \"#fb9f3a\"], [0.8888888888888888, \"#fdca26\"], [1.0, \"#f0f921\"]], \"type\": \"histogram2d\"}], \"histogram2dcontour\": [{\"colorbar\": {\"outlinewidth\": 0, \"ticks\": \"\"}, \"colorscale\": [[0.0, \"#0d0887\"], [0.1111111111111111, \"#46039f\"], [0.2222222222222222, \"#7201a8\"], [0.3333333333333333, \"#9c179e\"], [0.4444444444444444, \"#bd3786\"], [0.5555555555555556, \"#d8576b\"], [0.6666666666666666, \"#ed7953\"], [0.7777777777777778, \"#fb9f3a\"], [0.8888888888888888, \"#fdca26\"], [1.0, \"#f0f921\"]], \"type\": \"histogram2dcontour\"}], \"mesh3d\": [{\"colorbar\": {\"outlinewidth\": 0, \"ticks\": \"\"}, \"type\": \"mesh3d\"}], \"parcoords\": [{\"line\": {\"colorbar\": {\"outlinewidth\": 0, \"ticks\": \"\"}}, \"type\": \"parcoords\"}], \"pie\": [{\"automargin\": true, \"type\": \"pie\"}], \"scatter\": [{\"marker\": {\"colorbar\": {\"outlinewidth\": 0, \"ticks\": \"\"}}, \"type\": \"scatter\"}], \"scatter3d\": [{\"line\": {\"colorbar\": {\"outlinewidth\": 0, \"ticks\": \"\"}}, \"marker\": {\"colorbar\": {\"outlinewidth\": 0, \"ticks\": \"\"}}, \"type\": \"scatter3d\"}], \"scattercarpet\": [{\"marker\": {\"colorbar\": {\"outlinewidth\": 0, \"ticks\": \"\"}}, \"type\": \"scattercarpet\"}], \"scattergeo\": [{\"marker\": {\"colorbar\": {\"outlinewidth\": 0, \"ticks\": \"\"}}, \"type\": \"scattergeo\"}], \"scattergl\": [{\"marker\": {\"colorbar\": {\"outlinewidth\": 0, \"ticks\": \"\"}}, \"type\": \"scattergl\"}], \"scattermapbox\": [{\"marker\": {\"colorbar\": {\"outlinewidth\": 0, \"ticks\": \"\"}}, \"type\": \"scattermapbox\"}], \"scatterpolar\": [{\"marker\": {\"colorbar\": {\"outlinewidth\": 0, \"ticks\": \"\"}}, \"type\": \"scatterpolar\"}], \"scatterpolargl\": [{\"marker\": {\"colorbar\": {\"outlinewidth\": 0, \"ticks\": \"\"}}, \"type\": \"scatterpolargl\"}], \"scatterternary\": [{\"marker\": {\"colorbar\": {\"outlinewidth\": 0, \"ticks\": \"\"}}, \"type\": \"scatterternary\"}], \"surface\": [{\"colorbar\": {\"outlinewidth\": 0, \"ticks\": \"\"}, \"colorscale\": [[0.0, \"#0d0887\"], [0.1111111111111111, \"#46039f\"], [0.2222222222222222, \"#7201a8\"], [0.3333333333333333, \"#9c179e\"], [0.4444444444444444, \"#bd3786\"], [0.5555555555555556, \"#d8576b\"], [0.6666666666666666, \"#ed7953\"], [0.7777777777777778, \"#fb9f3a\"], [0.8888888888888888, \"#fdca26\"], [1.0, \"#f0f921\"]], \"type\": \"surface\"}], \"table\": [{\"cells\": {\"fill\": {\"color\": \"#EBF0F8\"}, \"line\": {\"color\": \"white\"}}, \"header\": {\"fill\": {\"color\": \"#C8D4E3\"}, \"line\": {\"color\": \"white\"}}, \"type\": \"table\"}]}, \"layout\": {\"annotationdefaults\": {\"arrowcolor\": \"#2a3f5f\", \"arrowhead\": 0, \"arrowwidth\": 1}, \"coloraxis\": {\"colorbar\": {\"outlinewidth\": 0, \"ticks\": \"\"}}, \"colorscale\": {\"diverging\": [[0, \"#8e0152\"], [0.1, \"#c51b7d\"], [0.2, \"#de77ae\"], [0.3, \"#f1b6da\"], [0.4, \"#fde0ef\"], [0.5, \"#f7f7f7\"], [0.6, \"#e6f5d0\"], [0.7, \"#b8e186\"], [0.8, \"#7fbc41\"], [0.9, \"#4d9221\"], [1, \"#276419\"]], \"sequential\": [[0.0, \"#0d0887\"], [0.1111111111111111, \"#46039f\"], [0.2222222222222222, \"#7201a8\"], [0.3333333333333333, \"#9c179e\"], [0.4444444444444444, \"#bd3786\"], [0.5555555555555556, \"#d8576b\"], [0.6666666666666666, \"#ed7953\"], [0.7777777777777778, \"#fb9f3a\"], [0.8888888888888888, \"#fdca26\"], [1.0, \"#f0f921\"]], \"sequentialminus\": [[0.0, \"#0d0887\"], [0.1111111111111111, \"#46039f\"], [0.2222222222222222, \"#7201a8\"], [0.3333333333333333, \"#9c179e\"], [0.4444444444444444, \"#bd3786\"], [0.5555555555555556, \"#d8576b\"], [0.6666666666666666, \"#ed7953\"], [0.7777777777777778, \"#fb9f3a\"], [0.8888888888888888, \"#fdca26\"], [1.0, \"#f0f921\"]]}, \"colorway\": [\"#636efa\", \"#EF553B\", \"#00cc96\", \"#ab63fa\", \"#FFA15A\", \"#19d3f3\", \"#FF6692\", \"#B6E880\", \"#FF97FF\", \"#FECB52\"], \"font\": {\"color\": \"#2a3f5f\"}, \"geo\": {\"bgcolor\": \"white\", \"lakecolor\": \"white\", \"landcolor\": \"#E5ECF6\", \"showlakes\": true, \"showland\": true, \"subunitcolor\": \"white\"}, \"hoverlabel\": {\"align\": \"left\"}, \"hovermode\": \"closest\", \"mapbox\": {\"style\": \"light\"}, \"paper_bgcolor\": \"white\", \"plot_bgcolor\": \"#E5ECF6\", \"polar\": {\"angularaxis\": {\"gridcolor\": \"white\", \"linecolor\": \"white\", \"ticks\": \"\"}, \"bgcolor\": \"#E5ECF6\", \"radialaxis\": {\"gridcolor\": \"white\", \"linecolor\": \"white\", \"ticks\": \"\"}}, \"scene\": {\"xaxis\": {\"backgroundcolor\": \"#E5ECF6\", \"gridcolor\": \"white\", \"gridwidth\": 2, \"linecolor\": \"white\", \"showbackground\": true, \"ticks\": \"\", \"zerolinecolor\": \"white\"}, \"yaxis\": {\"backgroundcolor\": \"#E5ECF6\", \"gridcolor\": \"white\", \"gridwidth\": 2, \"linecolor\": \"white\", \"showbackground\": true, \"ticks\": \"\", \"zerolinecolor\": \"white\"}, \"zaxis\": {\"backgroundcolor\": \"#E5ECF6\", \"gridcolor\": \"white\", \"gridwidth\": 2, \"linecolor\": \"white\", \"showbackground\": true, \"ticks\": \"\", \"zerolinecolor\": \"white\"}}, \"shapedefaults\": {\"line\": {\"color\": \"#2a3f5f\"}}, \"ternary\": {\"aaxis\": {\"gridcolor\": \"white\", \"linecolor\": \"white\", \"ticks\": \"\"}, \"baxis\": {\"gridcolor\": \"white\", \"linecolor\": \"white\", \"ticks\": \"\"}, \"bgcolor\": \"#E5ECF6\", \"caxis\": {\"gridcolor\": \"white\", \"linecolor\": \"white\", \"ticks\": \"\"}}, \"title\": {\"x\": 0.05}, \"xaxis\": {\"automargin\": true, \"gridcolor\": \"white\", \"linecolor\": \"white\", \"ticks\": \"\", \"title\": {\"standoff\": 15}, \"zerolinecolor\": \"white\", \"zerolinewidth\": 2}, \"yaxis\": {\"automargin\": true, \"gridcolor\": \"white\", \"linecolor\": \"white\", \"ticks\": \"\", \"title\": {\"standoff\": 15}, \"zerolinecolor\": \"white\", \"zerolinewidth\": 2}}}, \"title\": {\"text\": \"How has life expectancy changed over time?\", \"x\": 0.5}, \"xaxis\": {\"dtick\": 10, \"gridcolor\": \"#edf1f7\", \"linecolor\": \"black\", \"mirror\": true, \"range\": [1841, 2100], \"showgrid\": true, \"showline\": true, \"tickangle\": 45, \"ticks\": \"outside\", \"title\": {\"text\": \"Year\"}}, \"yaxis\": {\"dtick\": 10, \"gridcolor\": \"#edf1f7\", \"linecolor\": \"black\", \"mirror\": true, \"range\": [0, 120], \"showgrid\": true, \"showline\": true, \"ticks\": \"outside\", \"title\": {\"text\": \"Age (years)\"}}},                        {\"responsive\": true}                    ).then(function(){\n",
       "                            \n",
       "var gd = document.getElementById('444a777b-254a-49b3-8c6e-525dc9ec0cf5');\n",
       "var x = new MutationObserver(function (mutations, observer) {{\n",
       "        var display = window.getComputedStyle(gd).display;\n",
       "        if (!display || display === 'none') {{\n",
       "            console.log([gd, 'removed!']);\n",
       "            Plotly.purge(gd);\n",
       "            observer.disconnect();\n",
       "        }}\n",
       "}});\n",
       "\n",
       "// Listen for the removal of the full notebook cells\n",
       "var notebookContainer = gd.closest('#notebook-container');\n",
       "if (notebookContainer) {{\n",
       "    x.observe(notebookContainer, {childList: true});\n",
       "}}\n",
       "\n",
       "// Listen for the clearing of the current output cell\n",
       "var outputEl = gd.closest('.output');\n",
       "if (outputEl) {{\n",
       "    x.observe(outputEl, {childList: true});\n",
       "}}\n",
       "\n",
       "                        })                };                });            </script>        </div>"
      ]
     },
     "metadata": {},
     "output_type": "display_data"
    }
   ],
   "source": [
    "traces = []\n",
    "\n",
    "# lifeline for each row\n",
    "for index,row in df.iterrows():\n",
    "    data = go.Scatter(x=[row['year'], max(row['male_end'], row['female_end'])],\n",
    "                      y=[0., max(row['male'], row['female'])],\n",
    "                      mode='lines',\n",
    "                      line=dict(color='#A9A9A9', width=1),\n",
    "                      showlegend=False)\n",
    "    traces.append(data)\n",
    "\n",
    "# lifeline for each row\n",
    "for index,row in df2.iterrows():\n",
    "    data = go.Scatter(x=[row['birth_year'], row['death_year']],\n",
    "                      y=[0., row['age2']],\n",
    "                      mode='lines',\n",
    "                      line=dict(color='#A9A9A9', width=1, dash='dash'),\n",
    "                      showlegend=False)\n",
    "    traces.append(data)    \n",
    "    \n",
    "# male\n",
    "data = go.Scatter(x=df['male_end'], y=df['male'], mode='markers', name=\"Male\",\n",
    "                  marker=dict(line_width=1, size=8, color='#4ac6ba'))\n",
    "traces.append(data)\n",
    "\n",
    "# female\n",
    "data = go.Scatter(x=df['female_end'], y=df['female'], mode='markers', name=\"Female\",\n",
    "                  marker=dict(line_width=1, size=8, color='#ee82ee'))\n",
    "traces.append(data)\n",
    "\n",
    "# englands oldest\n",
    "data = go.Scatter(x=df2['death_year'], y=df2['age2'], mode='markers', name=\"Top 10 oldest\", marker_symbol=\"hexagram\",\n",
    "                  marker=dict(line_width=1, size=8, color='#FFD700'))\n",
    "traces.append(data)\n",
    "\n",
    "layout = go.Layout(plot_bgcolor=\"#FFFFFF\",\n",
    "                   title='How has life expectancy changed over time?',\n",
    "                   title_x=0.5,\n",
    "                   yaxis_title=\"Age (years)\",\n",
    "                   xaxis_title=\"Year\",\n",
    "                   xaxis=dict(range=[1841, 2100],\n",
    "                              showline=True, linecolor='black', mirror=True,\n",
    "                              showgrid=True, gridcolor='#edf1f7',\n",
    "                              ticks='outside', dtick=10, tickangle=45),\n",
    "                   yaxis=dict(range=[0, 120],\n",
    "                              showline=True, linecolor='black', mirror=True,\n",
    "                              showgrid=True, gridcolor='#edf1f7',\n",
    "                              ticks='outside', dtick=10))\n",
    "\n",
    "fig=go.Figure(data=traces, layout=layout)\n",
    "fig.show()"
   ]
  },
  {
   "cell_type": "code",
   "execution_count": null,
   "metadata": {},
   "outputs": [],
   "source": []
  }
 ],
 "metadata": {
  "kernelspec": {
   "display_name": "Python 3",
   "language": "python",
   "name": "python3"
  },
  "language_info": {
   "codemirror_mode": {
    "name": "ipython",
    "version": 3
   },
   "file_extension": ".py",
   "mimetype": "text/x-python",
   "name": "python",
   "nbconvert_exporter": "python",
   "pygments_lexer": "ipython3",
   "version": "3.7.3"
  }
 },
 "nbformat": 4,
 "nbformat_minor": 2
}
