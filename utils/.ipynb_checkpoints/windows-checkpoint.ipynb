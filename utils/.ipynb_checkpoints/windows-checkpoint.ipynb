{
 "cells": [
  {
   "cell_type": "code",
   "execution_count": null,
   "metadata": {},
   "outputs": [],
   "source": [
    "# ------------------------------\n",
    "# mouse control with py-auto-gui\n",
    "# ------------------------------\n",
    "\n",
    "import pyautogui\n",
    "import time\n",
    "\n",
    "while(True):\n",
    "    pyautogui.moveRel(0, 100) \n",
    "    time.sleep(30)\n",
    "    pyautogui.moveRel(0, -100) \n",
    "    time.sleep(30)"
   ]
  },
  {
   "cell_type": "code",
   "execution_count": null,
   "metadata": {},
   "outputs": [],
   "source": [
    "# -----------------------\n",
    "# converting excel to pdf\n",
    "# -----------------------\n",
    "\n",
    "import win32com.client\n",
    "o = win32com.client.Dispatch(\"Excel.Application\")\n",
    "o.Visible = False\n",
    "\n",
    "# loop through relevant files\n",
    "for doc in docs:\n",
    "    \n",
    "    print(doc)\n",
    "    \n",
    "    # open the workbook\n",
    "    wb_path = r'C:\\Users\\...\\doc_{}.xlsx'.format(doc)\n",
    "    wb = o.Workbooks.Open(wb_path)\n",
    "\n",
    "    # list the sheets to be exported\n",
    "    ws_index_list = [3] \n",
    "    \n",
    "    # export the sheets to pdf\n",
    "    path_to_pdf = r'C:\\Users\\...\\doc_{}.pdf'.format(farm)\n",
    "    wb.WorkSheets(ws_index_list).Select()\n",
    "    wb.ActiveSheet.ExportAsFixedFormat(0, path_to_pdf)\n",
    "    \n",
    "    # close the workbook\n",
    "    wb.Close(True)"
   ]
  }
 ],
 "metadata": {
  "kernelspec": {
   "display_name": "Python 3",
   "language": "python",
   "name": "python3"
  },
  "language_info": {
   "codemirror_mode": {
    "name": "ipython",
    "version": 3
   },
   "file_extension": ".py",
   "mimetype": "text/x-python",
   "name": "python",
   "nbconvert_exporter": "python",
   "pygments_lexer": "ipython3",
   "version": "3.7.3"
  }
 },
 "nbformat": 4,
 "nbformat_minor": 2
}
