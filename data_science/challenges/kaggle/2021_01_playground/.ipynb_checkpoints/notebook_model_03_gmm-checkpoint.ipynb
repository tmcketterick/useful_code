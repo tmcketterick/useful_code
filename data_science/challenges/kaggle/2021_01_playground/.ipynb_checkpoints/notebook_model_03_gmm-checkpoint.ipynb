{
 "cells": [
  {
   "cell_type": "code",
   "execution_count": 68,
   "metadata": {},
   "outputs": [],
   "source": [
    "import os\n",
    "import pandas as pd\n",
    "import numpy as np\n",
    "import plotly.express as px\n",
    "from sklearn.mixture import GaussianMixture\n",
    "from sklearn.naive_bayes import GaussianNB\n",
    "from sklearn.metrics import accuracy_score, mean_squared_error"
   ]
  },
  {
   "cell_type": "code",
   "execution_count": 69,
   "metadata": {},
   "outputs": [],
   "source": [
    "# -----------\n",
    "# DEFINTIIONS\n",
    "# -----------\n",
    "MODEL = \"gmm\""
   ]
  },
  {
   "cell_type": "code",
   "execution_count": 70,
   "metadata": {},
   "outputs": [],
   "source": [
    "# make output directory\n",
    "path = os.path.join(\"images\", \"models\", MODEL)\n",
    "if not os.path.exists(path):\n",
    "    os.makedirs(path)"
   ]
  },
  {
   "cell_type": "code",
   "execution_count": 71,
   "metadata": {},
   "outputs": [],
   "source": [
    "# load data\n",
    "train = pd.read_csv('data/train.csv')\n",
    "test = pd.read_csv('data/test.csv')"
   ]
  },
  {
   "cell_type": "code",
   "execution_count": 72,
   "metadata": {},
   "outputs": [],
   "source": [
    "# split the training data\n",
    "x_train = train.loc[:, train.columns != 'target']\n",
    "y_train = train[['target']]"
   ]
  },
  {
   "cell_type": "code",
   "execution_count": 73,
   "metadata": {},
   "outputs": [],
   "source": [
    "# fit a gaussian mixture model\n",
    "gm = GaussianMixture(n_components=3, random_state=0).fit(y_train)\n",
    "y_train2 = gm.predict(y_train)\n",
    "train['class'] = y_train2"
   ]
  },
  {
   "cell_type": "code",
   "execution_count": 74,
   "metadata": {},
   "outputs": [],
   "source": [
    "# plot the results of the gmm model\n",
    "fig = px.histogram(train, x='target', color='class', marginal=\"box\", barmode=\"overlay\")\n",
    "fig.write_image(os.path.join(path, \"gmm_fit.png\"), width=1080, height=720, scale=2)"
   ]
  },
  {
   "cell_type": "code",
   "execution_count": 75,
   "metadata": {},
   "outputs": [
    {
     "data": {
      "text/plain": [
       "52.36"
      ]
     },
     "execution_count": 75,
     "metadata": {},
     "output_type": "execute_result"
    }
   ],
   "source": [
    "# attempt to train against the gmm classifications\n",
    "clf = lgb.LGBMClassifier()\n",
    "clf.fit(x_train, y_train2)\n",
    "pred = clf.predict(x_train)\n",
    "np.round(100.*accuracy_score(y_train2, pred),2)"
   ]
  },
  {
   "cell_type": "code",
   "execution_count": 76,
   "metadata": {},
   "outputs": [
    {
     "data": {
      "text/plain": [
       "array([0, 1, 2, ..., 1, 1, 1], dtype=int64)"
      ]
     },
     "execution_count": 76,
     "metadata": {},
     "output_type": "execute_result"
    }
   ],
   "source": [
    "y_train2"
   ]
  },
  {
   "cell_type": "code",
   "execution_count": 77,
   "metadata": {},
   "outputs": [
    {
     "name": "stderr",
     "output_type": "stream",
     "text": [
      "C:\\Users\\TomMcKetterick\\Anaconda3\\lib\\site-packages\\ipykernel_launcher.py:3: SettingWithCopyWarning:\n",
      "\n",
      "\n",
      "A value is trying to be set on a copy of a slice from a DataFrame.\n",
      "Try using .loc[row_indexer,col_indexer] = value instead\n",
      "\n",
      "See the caveats in the documentation: https://pandas.pydata.org/pandas-docs/stable/user_guide/indexing.html#returning-a-view-versus-a-copy\n",
      "\n"
     ]
    },
    {
     "data": {
      "text/plain": [
       "0.09045330991792018"
      ]
     },
     "execution_count": 77,
     "metadata": {},
     "output_type": "execute_result"
    }
   ],
   "source": [
    "import lightgbm as lgb\n",
    "\n",
    "x_train['class'] = y_train2\n",
    "\n",
    "clf = lgb.LGBMRegressor()\n",
    "clf.fit(x_train, y_train)\n",
    "\n",
    "y_pred = clf.predict(x_train)\n",
    "mean_squared_error(y_train, y_pred)"
   ]
  },
  {
   "cell_type": "code",
   "execution_count": 79,
   "metadata": {},
   "outputs": [],
   "source": [
    "train['pred'] = y_pred\n",
    "fig = px.histogram(train, x=['target', 'pred'], marginal=\"box\", barmode=\"overlay\")\n",
    "fig.write_image(os.path.join(path, \"lgbm_scaled.png\"), width=1080, height=720, scale=2)"
   ]
  },
  {
   "cell_type": "code",
   "execution_count": 78,
   "metadata": {},
   "outputs": [
    {
     "name": "stdout",
     "output_type": "stream",
     "text": [
      "id 0.003\n",
      "cont1 -0.038\n",
      "cont2 -0.015\n",
      "cont3 0.004\n",
      "cont4 0.01\n",
      "cont5 -0.009\n",
      "cont6 -0.014\n",
      "cont7 -0.003\n",
      "cont8 -0.01\n",
      "cont9 -0.031\n",
      "cont10 -0.037\n",
      "cont11 -0.007\n",
      "cont12 -0.013\n",
      "cont13 -0.025\n",
      "cont14 -0.002\n",
      "class 1.0\n"
     ]
    }
   ],
   "source": [
    "for feature in list(x_train):\n",
    "    print(feature, np.round(x_train[feature].corr(x_train[\"class\"], method=\"pearson\"), 3))"
   ]
  },
  {
   "cell_type": "code",
   "execution_count": null,
   "metadata": {},
   "outputs": [],
   "source": []
  }
 ],
 "metadata": {
  "kernelspec": {
   "display_name": "Python 3",
   "language": "python",
   "name": "python3"
  },
  "language_info": {
   "codemirror_mode": {
    "name": "ipython",
    "version": 3
   },
   "file_extension": ".py",
   "mimetype": "text/x-python",
   "name": "python",
   "nbconvert_exporter": "python",
   "pygments_lexer": "ipython3",
   "version": "3.7.3"
  }
 },
 "nbformat": 4,
 "nbformat_minor": 2
}
