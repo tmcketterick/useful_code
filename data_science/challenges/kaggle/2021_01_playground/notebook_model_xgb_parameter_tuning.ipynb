{
 "cells": [
  {
   "cell_type": "code",
   "execution_count": 1,
   "metadata": {},
   "outputs": [],
   "source": [
    "import pandas as pd\n",
    "import plotly.express as px\n",
    "import xgboost as xgb\n",
    "from sklearn.model_selection import GridSearchCV"
   ]
  },
  {
   "cell_type": "code",
   "execution_count": 2,
   "metadata": {},
   "outputs": [],
   "source": [
    "train = pd.read_csv('data/train.csv')\n",
    "test = pd.read_csv('data/test.csv')"
   ]
  },
  {
   "cell_type": "code",
   "execution_count": 3,
   "metadata": {},
   "outputs": [],
   "source": [
    "submission = test[['id']]\n",
    "train = train.drop(['id'], axis=1)\n",
    "test = test.drop(['id'], axis=1)"
   ]
  },
  {
   "cell_type": "code",
   "execution_count": null,
   "metadata": {},
   "outputs": [],
   "source": [
    "train = train[train['target']>0]"
   ]
  },
  {
   "cell_type": "code",
   "execution_count": null,
   "metadata": {},
   "outputs": [],
   "source": [
    "x_train = train.loc[:, train.columns != 'target']\n",
    "y_train = train['target']\n",
    "x_test = test"
   ]
  },
  {
   "cell_type": "code",
   "execution_count": null,
   "metadata": {},
   "outputs": [
    {
     "name": "stdout",
     "output_type": "stream",
     "text": [
      "Fitting 5 folds for each of 6 candidates, totalling 30 fits\n"
     ]
    },
    {
     "name": "stderr",
     "output_type": "stream",
     "text": [
      "[Parallel(n_jobs=-1)]: Using backend LokyBackend with 4 concurrent workers.\n"
     ]
    }
   ],
   "source": [
    "# parameter combinations\n",
    "params = {'n_estimators' : [1500, 2000, 2500],\n",
    "          'learning_rate' : [0.01, 0.02]}\n",
    "\n",
    "\n",
    "# xgb regressor model\n",
    "reg = xgb.XGBRegressor(\n",
    "        objective = 'reg:squarederror',\n",
    "        subsample = 0.8,\n",
    "        colsample_bytree = 0.8,\n",
    "        learning_rate = 0.01)\n",
    "        #colsample_bynode = 0.85,\n",
    "        #colsample_bylevel = 0.2,\n",
    "        #gamma = 0.01,\n",
    "        #reg_lambda = 0.01,\n",
    "        #learning_rate = 0.02)\n",
    "        #max_depth = 3,\n",
    "        #min_child_weight = 3,\n",
    "        #n_estimators = 6100)\n",
    "\n",
    "\n",
    "grid_search = GridSearchCV(reg, \n",
    "                           param_grid = params, \n",
    "                           scoring = 'neg_root_mean_squared_error', \n",
    "                           n_jobs = -1, \n",
    "                           verbose = 10)\n",
    "\n",
    "grid_search.fit(x_train, y_train)\n",
    "\n",
    "\n",
    "print('\\n Best estimator:')\n",
    "print(grid_search.best_estimator_)\n",
    "\n",
    "print('\\n Best score:')\n",
    "print(grid_search.best_score_)\n",
    "\n",
    "print('\\n Best hyperparameters:')\n",
    "print(grid_search.best_params_)"
   ]
  },
  {
   "cell_type": "code",
   "execution_count": null,
   "metadata": {},
   "outputs": [],
   "source": [
    "# submission['target'] = y_pred\n",
    "# test['target'] = y_pred\n",
    "# train['label'] = 'train'\n",
    "# test['label'] = 'test'\n",
    "# df = pd.concat([train, test])\n",
    "# fig = px.histogram(df, x='target', color='label', marginal=\"box\", barmode=\"overlay\")"
   ]
  },
  {
   "cell_type": "code",
   "execution_count": null,
   "metadata": {},
   "outputs": [],
   "source": [
    "submission.to_csv('submission.csv', index=False)"
   ]
  },
  {
   "cell_type": "code",
   "execution_count": null,
   "metadata": {},
   "outputs": [],
   "source": []
  }
 ],
 "metadata": {
  "kernelspec": {
   "display_name": "Python 3",
   "language": "python",
   "name": "python3"
  },
  "language_info": {
   "codemirror_mode": {
    "name": "ipython",
    "version": 3
   },
   "file_extension": ".py",
   "mimetype": "text/x-python",
   "name": "python",
   "nbconvert_exporter": "python",
   "pygments_lexer": "ipython3",
   "version": "3.7.3"
  }
 },
 "nbformat": 4,
 "nbformat_minor": 2
}
