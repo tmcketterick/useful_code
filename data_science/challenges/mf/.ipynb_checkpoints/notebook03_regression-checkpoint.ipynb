{
 "cells": [
  {
   "cell_type": "code",
   "execution_count": 1,
   "metadata": {},
   "outputs": [],
   "source": [
    "import pandas as pd\n",
    "import scipy as sci\n",
    "import sklearn as skl\n",
    "import sys\n",
    "import numpy as np\n",
    "import matplotlib.pyplot as plt\n",
    "from matplotlib.colors import ListedColormap\n",
    "from sklearn.model_selection import train_test_split\n",
    "from sklearn.preprocessing import StandardScaler\n",
    "from sklearn.datasets import make_moons, make_circles, make_classification\n",
    "from sklearn.neural_network import MLPClassifier\n",
    "from sklearn.neighbors import KNeighborsClassifier\n",
    "from sklearn.svm import SVC\n",
    "from sklearn.gaussian_process import GaussianProcessClassifier\n",
    "from sklearn.gaussian_process.kernels import RBF\n",
    "from sklearn.tree import DecisionTreeClassifier\n",
    "from sklearn.ensemble import RandomForestClassifier, AdaBoostClassifier\n",
    "from sklearn.naive_bayes import GaussianNB\n",
    "from sklearn.discriminant_analysis import QuadraticDiscriminantAnalysis"
   ]
  },
  {
   "cell_type": "code",
   "execution_count": 15,
   "metadata": {},
   "outputs": [],
   "source": [
    "# import and wrangle data\n",
    "data = make_moons(noise=0.3, random_state=0),\n",
    "X, y = data[0][0], data[0][1]\n",
    "X = StandardScaler().fit_transform(X)\n",
    "X_train, X_test, y_train, y_test = train_test_split(X, y, test_size=.4, random_state=42)"
   ]
  },
  {
   "cell_type": "code",
   "execution_count": 18,
   "metadata": {},
   "outputs": [],
   "source": [
    "# prep models\n",
    "classifiers = {\"Nearest Neighbors\": KNeighborsClassifier(3),\n",
    "               \"Linear SVM\": SVC(kernel=\"linear\", C=0.025),\n",
    "               \"RBF SVM\": SVC(gamma=2, C=1),\n",
    "               \"Gaussian Process\": GaussianProcessClassifier(1.0 * RBF(1.0)),\n",
    "               \"Decision Tree\": DecisionTreeClassifier(max_depth=5),\n",
    "               \"Random Forest\": RandomForestClassifier(max_depth=5, n_estimators=10, max_features=1),\n",
    "               \"Neural Net\": MLPClassifier(alpha=1, max_iter=1000),\n",
    "               \"AdaBoost\": AdaBoostClassifier(),\n",
    "               \"Naive Bayes\": GaussianNB(),\n",
    "               \"QDA\": QuadraticDiscriminantAnalysis()}"
   ]
  },
  {
   "cell_type": "code",
   "execution_count": 22,
   "metadata": {},
   "outputs": [
    {
     "name": "stdout",
     "output_type": "stream",
     "text": [
      "Nearest Neighbors 0.975\n",
      "Linear SVM 0.875\n",
      "RBF SVM 0.975\n",
      "Gaussian Process 0.975\n",
      "Decision Tree 0.95\n",
      "Random Forest 0.95\n",
      "Neural Net 0.925\n",
      "AdaBoost 0.925\n",
      "Naive Bayes 0.875\n",
      "QDA 0.85\n"
     ]
    }
   ],
   "source": [
    "# fit models and print accuracy\n",
    "for clf in classifiers:\n",
    "    classifiers[clf].fit(X_train, y_train)\n",
    "    score = classifiers[clf].score(X_test, y_test)\n",
    "    print(clf, score)"
   ]
  }
 ],
 "metadata": {
  "kernelspec": {
   "display_name": "Python 3",
   "language": "python",
   "name": "python3"
  },
  "language_info": {
   "codemirror_mode": {
    "name": "ipython",
    "version": 3
   },
   "file_extension": ".py",
   "mimetype": "text/x-python",
   "name": "python",
   "nbconvert_exporter": "python",
   "pygments_lexer": "ipython3",
   "version": "3.7.4"
  }
 },
 "nbformat": 4,
 "nbformat_minor": 4
}
