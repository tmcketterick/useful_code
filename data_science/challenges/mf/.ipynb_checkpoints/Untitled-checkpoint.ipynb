{
 "cells": [
  {
   "cell_type": "code",
   "execution_count": 27,
   "metadata": {},
   "outputs": [
    {
     "name": "stdout",
     "output_type": "stream",
     "text": [
      "orange (valencia) {'orange ': 0.75}\n",
      "plum (victoria) {'orange ': 0.75, 'plum ': 0.3}\n",
      "plum (victoria) {'orange ': 0.75, 'plum ': 0.6}\n",
      "apple (braeburn) {'orange ': 0.75, 'plum ': 0.6, 'apple ': 0.5}\n",
      "plum (victoria) {'orange ': 0.75, 'plum ': 0.8999999999999999, 'apple ': 0.5}\n",
      "apple (cox) {'orange ': 0.75, 'plum ': 0.8999999999999999, 'apple ': 0.9}\n",
      ">>>  {'apple ': 0.9, 'orange ': 0.75, 'plum ': 0.9}\n"
     ]
    }
   ],
   "source": [
    "\n",
    "example_sales = [\n",
    "    \"orange (valencia)\",\n",
    "    \"plum (victoria)\",\n",
    "    \"plum (victoria)\",\n",
    "    \"apple (braeburn)\",\n",
    "    \"plum (victoria)\",\n",
    "    \"apple (cox)\",\n",
    "]\n",
    "example_prices = {\n",
    "    \"apple (braeburn)\": 0.5,\n",
    "    \"apple (cox)\": 0.4,\n",
    "    \"orange (valencia)\": 0.75,\n",
    "    \"plum (victoria)\": 0.3,\n",
    "}\n",
    "\n",
    "\n",
    "print(\">>> \", sales_total_by_category(example_sales, example_prices))"
   ]
  },
  {
   "cell_type": "code",
   "execution_count": 28,
   "metadata": {},
   "outputs": [],
   "source": [
    "import collections\n",
    "\n",
    "def sales_total_by_category(sales_list, prices):\n",
    "    dct = {}\n",
    "    for itm in sales_list:\n",
    "        cat = itm.split(\" (\")[0]\n",
    "        if cat in dct:\n",
    "            dct[cat] += prices[itm]\n",
    "        else:\n",
    "            dct[cat] = prices[itm]\n",
    "        print(itm, dct)\n",
    "    dct = {key : round(dct[key], 2) for key in dct} \n",
    "    return dict(collections.OrderedDict(sorted(dct.items())))"
   ]
  },
  {
   "cell_type": "code",
   "execution_count": null,
   "metadata": {},
   "outputs": [],
   "source": []
  },
  {
   "cell_type": "code",
   "execution_count": null,
   "metadata": {},
   "outputs": [],
   "source": []
  }
 ],
 "metadata": {
  "kernelspec": {
   "display_name": "Python 3",
   "language": "python",
   "name": "python3"
  },
  "language_info": {
   "codemirror_mode": {
    "name": "ipython",
    "version": 3
   },
   "file_extension": ".py",
   "mimetype": "text/x-python",
   "name": "python",
   "nbconvert_exporter": "python",
   "pygments_lexer": "ipython3",
   "version": "3.7.4"
  }
 },
 "nbformat": 4,
 "nbformat_minor": 4
}
