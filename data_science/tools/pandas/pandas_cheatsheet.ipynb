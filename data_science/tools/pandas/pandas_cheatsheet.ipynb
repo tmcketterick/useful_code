{
 "cells": [
  {
   "cell_type": "code",
   "execution_count": 1,
   "metadata": {},
   "outputs": [],
   "source": [
    "import pandas as pd"
   ]
  },
  {
   "cell_type": "code",
   "execution_count": 8,
   "metadata": {},
   "outputs": [],
   "source": [
    "# create dataframe\n",
    "df = pd.DataFrame.from_dict([{'column1': 'column1-value1',\n",
    "                              'column2': 'column2-value1',\n",
    "                              'column3': 'column3-value1'},\n",
    "                             {'column1': 'column1-value2',\n",
    "                              'column2': 'column2-value2',\n",
    "                              'column3': 'column3-value2'}])"
   ]
  },
  {
   "cell_type": "code",
   "execution_count": 9,
   "metadata": {},
   "outputs": [],
   "source": [
    "# read file\n",
    "df = pd.read_csv('filename.csv')"
   ]
  },
  {
   "cell_type": "code",
   "execution_count": 10,
   "metadata": {},
   "outputs": [],
   "source": [
    "# write file\n",
    "df.to_csv('filename.csv', index=False)"
   ]
  },
  {
   "cell_type": "code",
   "execution_count": 11,
   "metadata": {},
   "outputs": [],
   "source": [
    "# rename column\n",
    "df = df.rename(columns={\"column1\": \"new_column1\",\n",
    "                        \"column2\": \"new_column2\"})"
   ]
  },
  {
   "cell_type": "code",
   "execution_count": 7,
   "metadata": {},
   "outputs": [],
   "source": [
    "# drop column\n",
    "df = df.drop(['column3'], axis=1)"
   ]
  },
  {
   "cell_type": "code",
   "execution_count": null,
   "metadata": {},
   "outputs": [],
   "source": [
    "# flag duplicate rows\n",
    "df['duplicates'] = df.duplicated(subset=['column1', 'column2'], keep=False)"
   ]
  },
  {
   "cell_type": "code",
   "execution_count": null,
   "metadata": {},
   "outputs": [],
   "source": [
    "# groupby\n",
    "df = df.groupby(['column_1', 'column_2'], as_index=False)['column_3'].count()"
   ]
  },
  {
   "cell_type": "code",
   "execution_count": null,
   "metadata": {},
   "outputs": [],
   "source": [
    "# apply function to row\n",
    "df['new_column'] = df.apply(lambda row: function(row['column_1'], row['column_2']), axis=1)"
   ]
  },
  {
   "cell_type": "code",
   "execution_count": null,
   "metadata": {},
   "outputs": [],
   "source": [
    "# loop through rows\n",
    "for index, row in df.iterrows():\n",
    "    # read value\n",
    "    val = row['column_name']\n",
    "    # write value if condition met\n",
    "    if <condition>:\n",
    "        df.set_value(index,'column_name', new_val)"
   ]
  },
  {
   "cell_type": "code",
   "execution_count": null,
   "metadata": {},
   "outputs": [],
   "source": [
    "# search a column list for contains\n",
    "mask = df.['column_name'].apply(lambda x: any(item for item in column if item in x))\n",
    "df1 = df[mask]"
   ]
  }
 ],
 "metadata": {
  "kernelspec": {
   "display_name": "Python 3",
   "language": "python",
   "name": "python3"
  },
  "language_info": {
   "codemirror_mode": {
    "name": "ipython",
    "version": 3
   },
   "file_extension": ".py",
   "mimetype": "text/x-python",
   "name": "python",
   "nbconvert_exporter": "python",
   "pygments_lexer": "ipython3",
   "version": "3.7.3"
  }
 },
 "nbformat": 4,
 "nbformat_minor": 2
}
